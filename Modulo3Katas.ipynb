{
 "cells": [
  {
   "cell_type": "markdown",
   "metadata": {},
   "source": [
    "# Ejercicio - Escribir declaraciones `if`, `else` y `elif`"
   ]
  },
  {
   "cell_type": "markdown",
   "metadata": {},
   "source": [
    "Escribir un código condicional que imprima una advertencia si un asteroide se acerca a la Tierra demasiado rápido. La velocidad del asteroide varia dependiendo de lo cerca que este del sol, y cualquier velocidad superior a 25 kilometros por segundo (`km/s`) merece una advertencia.\n",
    "\n",
    "Un asteroide se acerca, y viaja a una velocidad de `49 km/s`."
   ]
  },
  {
   "cell_type": "code",
   "execution_count": 6,
   "metadata": {},
   "outputs": [
    {
     "name": "stdout",
     "output_type": "stream",
     "text": [
      "¡Advertencia!, un asteroide se acerca a una velocidad de 49 km/s\n"
     ]
    }
   ],
   "source": [
    "asteroid_speed = 49\n",
    "if asteroid_speed > 25:\n",
    "    print(f\"¡Advertencia!, un asteroide se acerca a una velocidad de {asteroid_speed} km/s\")\n",
    "else:\n",
    "    print(\" Ningun peligro. Todo marcha correcto.\")"
   ]
  },
  {
   "cell_type": "markdown",
   "metadata": {},
   "source": [
    "Si un asteroide entra a la atmosfera de la Tierra a una velocidad mayor o igual a `20 km/s`, a veces produce un rayo de luz que se puede ver desde la Tierra. Escribe la lógica condicional que usa declaraciones `if`, `else` y `elif` para alertar a las personas de todo el mundo que deben buscar un asteroide en el cielo.\n",
    "\n",
    "¡Hay uno que se dirige a la tierra ahora a una velocidad de `19 km/s`!"
   ]
  },
  {
   "cell_type": "code",
   "execution_count": 11,
   "metadata": {},
   "outputs": [
    {
     "name": "stdout",
     "output_type": "stream",
     "text": [
      "Por el momento no hay nada en el cielo.\n"
     ]
    }
   ],
   "source": [
    "asteroid_speed = 19\n",
    "if asteroid_speed > 20 :\n",
    "    print(\"Mira al cielo! Hay un asteroide muy rapido visible ahora mismo\")\n",
    "elif asteroid_speed == 20 :\n",
    "    print(\"Mira al cielo! Hay un asteroide visible ahora mismo.  NO HAY PELIGRO\")\n",
    "else :\n",
    "    print(\"Por el momento no hay nada en el cielo.\")"
   ]
  },
  {
   "cell_type": "markdown",
   "metadata": {},
   "source": [
    "# Ejercicio: Uso de operadores `and` y `or`\n"
   ]
  },
  {
   "cell_type": "markdown",
   "metadata": {},
   "source": [
    "Escribir un programa que emita la advertencia o informacion correcta a la gente de la Tierra, según la velocidad y el tamaño de un asteroide."
   ]
  },
  {
   "cell_type": "code",
   "execution_count": 19,
   "metadata": {},
   "outputs": [
    {
     "name": "stdout",
     "output_type": "stream",
     "text": [
      "¡PELIGRO! Un asteroide de gran tamaño y gran velocidad se acerca a la tierra.\n"
     ]
    }
   ],
   "source": [
    "asteroid_speed = 29\n",
    "asteroid_size = 30\n",
    "if asteroid_speed > 25 and asteroid_size >= 25:\n",
    "    print(\"¡PELIGRO! Un asteroide de gran tamaño y gran velocidad se acerca a la tierra.\")\n",
    "elif asteroid_speed >= 20 :\n",
    "    print(\"Mira al cielo! Hay un asteroide visible ahora mismo. NO HAY PELIGRO\")\n",
    "else:\n",
    "    print(\"Por el momento no hay nada visible en el cielo.\")\n"
   ]
  }
 ],
 "metadata": {
  "interpreter": {
   "hash": "f3451576c45272439e4a76d16bb13d4676d3321504fb1c3132d1f28e20dccbee"
  },
  "kernelspec": {
   "display_name": "Python 3.9.5 64-bit",
   "language": "python",
   "name": "python3"
  },
  "language_info": {
   "codemirror_mode": {
    "name": "ipython",
    "version": 3
   },
   "file_extension": ".py",
   "mimetype": "text/x-python",
   "name": "python",
   "nbconvert_exporter": "python",
   "pygments_lexer": "ipython3",
   "version": "3.9.5"
  },
  "orig_nbformat": 4
 },
 "nbformat": 4,
 "nbformat_minor": 2
}
