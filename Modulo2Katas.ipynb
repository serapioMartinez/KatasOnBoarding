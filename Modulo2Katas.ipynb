{
 "cells": [
  {
   "cell_type": "markdown",
   "metadata": {},
   "source": [
    "# Ejercicio - Crear un paquete\n",
    "En este ejercicio, aprenderas a utilizar entornos vistuales como una forma para no afectar a los paquetes instalados globalmente u otros programas que se ejecutan en tu maquina."
   ]
  },
  {
   "cell_type": "markdown",
   "metadata": {},
   "source": [
    "### Crear un entorno virtual\n",
    "Crear un entorno virtual mediante ***venv***\n",
    "\n",
    "• Ejecutar en su terminal:\n",
    "\n",
    "    python3 -m venv EntornoVirtual\n",
    "\n",
    "• Ejecuta el comando para activar el entorno virtual: \n",
    "\n",
    "    .\\EntornoVirtual\\Scripts\\activate\n",
    "\n",
    "![image](./images/entorno_virtual.png)"
   ]
  },
  {
   "cell_type": "markdown",
   "metadata": {},
   "source": [
    "### Instalar una biblioteca"
   ]
  },
  {
   "cell_type": "markdown",
   "metadata": {},
   "source": [
    "Ejecuta el comando ***pip freeze*** para ver las bibliotecas instaladas en tu entorno"
   ]
  },
  {
   "cell_type": "markdown",
   "metadata": {},
   "source": [
    "Ejecuta el comando ***pip install*** para instalar una biblioteca:\n",
    "\n",
    "    pip install python-dateutil\n",
    "\n",
    "![image](./images/pip_freeze.png)"
   ]
  },
  {
   "cell_type": "markdown",
   "metadata": {},
   "source": [
    "### Desactivar un entorno virtual \n",
    "A veces en necesario cambiar entre proyectos de Python en diferentes entornos virtuales. Para hacer eso, debes salir (desactivar) tu entorno virtual.\n",
    "Ejecuta el comando ***deactivate***:\n",
    "\n",
    "    deactivate\n",
    "\n",
    "![image](./images/deactivate.png)"
   ]
  }
 ],
 "metadata": {
  "interpreter": {
   "hash": "f3451576c45272439e4a76d16bb13d4676d3321504fb1c3132d1f28e20dccbee"
  },
  "kernelspec": {
   "display_name": "Python 3.9.5 64-bit",
   "language": "python",
   "name": "python3"
  },
  "language_info": {
   "codemirror_mode": {
    "name": "ipython",
    "version": 3
   },
   "file_extension": ".py",
   "mimetype": "text/x-python",
   "name": "python",
   "nbconvert_exporter": "python",
   "pygments_lexer": "ipython3",
   "version": "3.9.5"
  },
  "orig_nbformat": 4
 },
 "nbformat": 4,
 "nbformat_minor": 2
}
